{
 "cells": [
  {
   "cell_type": "markdown",
   "metadata": {},
   "source": [
    "Write a program to create a new string made of the middle three characters of an input string.\n",
    "- str1 = \"JhonDipPeta\" -> Expected Result = Dip\n",
    "- str2 = \"JaSonAy\" -> Expected Result = Son"
   ]
  },
  {
   "cell_type": "code",
   "execution_count": 2,
   "metadata": {},
   "outputs": [],
   "source": [
    "def get_middle_three(string):\n",
    "    if len(string) < 3:\n",
    "        return ''\n",
    "    remaining = len(string) - 3\n",
    "    start_index = remaining // 2\n",
    "    return string[start_index:start_index+3]"
   ]
  },
  {
   "cell_type": "code",
   "execution_count": 3,
   "metadata": {},
   "outputs": [
    {
     "name": "stdout",
     "output_type": "stream",
     "text": [
      "Dip\n",
      "Son\n",
      "bcd\n",
      "\n",
      "abc\n",
      "\n",
      "\n",
      "\n"
     ]
    }
   ],
   "source": [
    "print(get_middle_three('JhonDipPeta'))\n",
    "print(get_middle_three('JaSonAy'))\n",
    "print(get_middle_three('abcde'))\n",
    "print(get_middle_three('ab'))\n",
    "print(get_middle_three('abc'))\n",
    "print(get_middle_three(''))\n",
    "print(get_middle_three('a'))\n",
    "print(get_middle_three('ab'))"
   ]
  },
  {
   "cell_type": "code",
   "execution_count": null,
   "metadata": {},
   "outputs": [],
   "source": []
  }
 ],
 "metadata": {
  "kernelspec": {
   "display_name": "Python 3",
   "language": "python",
   "name": "python3"
  },
  "language_info": {
   "codemirror_mode": {
    "name": "ipython",
    "version": 3
   },
   "file_extension": ".py",
   "mimetype": "text/x-python",
   "name": "python",
   "nbconvert_exporter": "python",
   "pygments_lexer": "ipython3",
   "version": "3.13.0"
  }
 },
 "nbformat": 4,
 "nbformat_minor": 2
}
