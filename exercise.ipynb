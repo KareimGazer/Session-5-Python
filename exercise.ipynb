{
 "cells": [
  {
   "cell_type": "markdown",
   "metadata": {},
   "source": [
    "Write a Python program to get a string made of the first 2 and the last 2 chars from a given string. If the string length is less than or equal 2, return the empty string instead.\n",
    "\n",
    "- ‘udacity-deci’ -> Expected Result : ‘udci’\n",
    "- ‘deci’ -> Expected Result : 'deci'\n",
    "- 'w' -> Expected Result : Empty String\n",
    "- ‘de’ -> Expected Result: ‘dede’\n",
    "- ‘dec’ -> Expected Result: ‘deec’"
   ]
  },
  {
   "cell_type": "code",
   "execution_count": 3,
   "metadata": {},
   "outputs": [],
   "source": [
    "def first_last_2(string):\n",
    "    if len(string) < 2:\n",
    "        return ''\n",
    "    return string[0:2] + string[-2:]"
   ]
  },
  {
   "cell_type": "code",
   "execution_count": 5,
   "metadata": {},
   "outputs": [
    {
     "name": "stdout",
     "output_type": "stream",
     "text": [
      "udci\n",
      "deci\n",
      "\n",
      "dede\n",
      "deec\n"
     ]
    }
   ],
   "source": [
    "print(first_last_2('udacity-deci'))\n",
    "print(first_last_2('deci'))\n",
    "print(first_last_2('w'))\n",
    "print(first_last_2('de'))\n",
    "print(first_last_2('dec'))"
   ]
  },
  {
   "cell_type": "code",
   "execution_count": null,
   "metadata": {},
   "outputs": [],
   "source": []
  }
 ],
 "metadata": {
  "kernelspec": {
   "display_name": "Python 3",
   "language": "python",
   "name": "python3"
  },
  "language_info": {
   "codemirror_mode": {
    "name": "ipython",
    "version": 3
   },
   "file_extension": ".py",
   "mimetype": "text/x-python",
   "name": "python",
   "nbconvert_exporter": "python",
   "pygments_lexer": "ipython3",
   "version": "3.13.0"
  }
 },
 "nbformat": 4,
 "nbformat_minor": 2
}
