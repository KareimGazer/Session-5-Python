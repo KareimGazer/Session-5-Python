{
 "cells": [
  {
   "cell_type": "markdown",
   "metadata": {},
   "source": [
    "# Indexing, Slicing, and Concatenation\n",
    "\n",
    "## Variables\n",
    "\n",
    "- Variables are placeholders or containers that store data in memory.\n",
    "- They can be reassigned to different values during the execution of a program.\n",
    "\n",
    "## Literals\n",
    "\n",
    "- Literals are fixed values that are directly used in the code.\n",
    "- They represent specific values like numbers, strings, or Boolean values."
   ]
  },
  {
   "cell_type": "code",
   "execution_count": null,
   "metadata": {},
   "outputs": [],
   "source": [
    "x = 5  # Here, 'x' is a variable storing the integer value 5\n",
    "x = \"Hello\"  # Now, 'x' stores the string \"Hello\"\n",
    "\n",
    "num = 10  # Here, '10' is a numeric literal assigned to the variable 'num'\n",
    "message = 'Welcome'  # 'Welcome' is a string literal assigned to 'message'"
   ]
  },
  {
   "cell_type": "markdown",
   "metadata": {},
   "source": [
    "## Indexing\n",
    "\n",
    "- Indexing refers to accessing individual elements within an ordered collection like lists, tuples, or strings.\n",
    "- It is achieved by using square brackets [] along with the index position.\n",
    "- Indexing in Python starts from 0 for the first element.\n",
    "- Used to retrieve specific elements from sequences like lists, strings, or tuples.\n",
    "- Facilitates modifications or extraction of particular elements based on their position within the sequence."
   ]
  },
  {
   "cell_type": "code",
   "execution_count": 1,
   "metadata": {},
   "outputs": [
    {
     "name": "stdout",
     "output_type": "stream",
     "text": [
      "30\n"
     ]
    }
   ],
   "source": [
    "# Accessing the element at index 2 (which is 30)\n",
    "\n",
    "my_list = [10, 20, 30, 40, 50]\n",
    "print(my_list[2])"
   ]
  },
  {
   "cell_type": "markdown",
   "metadata": {},
   "source": [
    "## Slicing\n",
    "\n",
    "- Slicing refers to extracting a specific portion of a sequence by specifying a range using the colon `:` operator.\n",
    "- The syntax is `sequence[start:stop:step]`, where start is the starting index, stop is the ending index (exclusive), and step is the step size.\n",
    "- Used to extract a segment of a sequence (list, string, tuple) based on specified start and stop indices.\n",
    "- Facilitates working with specific portions of data without modifying the original sequence.\n"
   ]
  },
  {
   "cell_type": "code",
   "execution_count": 2,
   "metadata": {},
   "outputs": [
    {
     "name": "stdout",
     "output_type": "stream",
     "text": [
      "[2, 3, 4]\n"
     ]
    }
   ],
   "source": [
    "# Slicing the list from index 1 to index 3 (output: [2, 3, 4])\n",
    "my_list = [1, 2, 3, 4, 5]\n",
    "print(my_list[1:4])"
   ]
  },
  {
   "cell_type": "markdown",
   "metadata": {},
   "source": [
    "## Concatenation\n",
    "\n",
    "- Concatenation is the process of combining two or more strings, lists, or other sequences into one.\n",
    "- In Python, concatenating strings is done using the + operator.\n",
    "- Concatenation can be applied after slicing to merge specific parts of sequences obtained through slicing.\n",
    "- Delimiter: A delimiter is a character or sequence of characters used to separate or define boundaries between data elements. Common delimiters include commas (,), spaces, tabs, pipes (|), etc."
   ]
  },
  {
   "cell_type": "markdown",
   "metadata": {},
   "source": [
    "## Exercise\n",
    "\n",
    "In the provided examples try to guess the output of the print statements."
   ]
  },
  {
   "cell_type": "code",
   "execution_count": 3,
   "metadata": {},
   "outputs": [
    {
     "name": "stdout",
     "output_type": "stream",
     "text": [
      "Pto-rgamn-Prog\n"
     ]
    }
   ],
   "source": [
    "# Example 1\n",
    "text = \"Python-Programming\"\n",
    "result = text[::2] + \"-\" + text[7:11]\n",
    "print(result)"
   ]
  },
  {
   "cell_type": "code",
   "execution_count": 4,
   "metadata": {},
   "outputs": [
    {
     "name": "stdout",
     "output_type": "stream",
     "text": [
      "102030\n"
     ]
    }
   ],
   "source": [
    "# Example 2\n",
    "x = 10\n",
    "y = \"20\"\n",
    "output = str(x) + y[0] + y[1] + str(int(y) + x)\n",
    "print(output)"
   ]
  },
  {
   "cell_type": "code",
   "execution_count": 5,
   "metadata": {},
   "outputs": [
    {
     "name": "stdout",
     "output_type": "stream",
     "text": [
      "[2, 4, 6, 8, 1, 10]\n"
     ]
    }
   ],
   "source": [
    "# Example 3\n",
    "data = [1, 2, 3, 4, 5, 6, 7, 8, 9, 10]\n",
    "res = data[1:9:2] + [data[0]] + [data[-1]]\n",
    "print(res)"
   ]
  },
  {
   "cell_type": "code",
   "execution_count": null,
   "metadata": {},
   "outputs": [],
   "source": []
  }
 ],
 "metadata": {
  "kernelspec": {
   "display_name": "Python 3",
   "language": "python",
   "name": "python3"
  },
  "language_info": {
   "codemirror_mode": {
    "name": "ipython",
    "version": 3
   },
   "file_extension": ".py",
   "mimetype": "text/x-python",
   "name": "python",
   "nbconvert_exporter": "python",
   "pygments_lexer": "ipython3",
   "version": "3.13.0"
  }
 },
 "nbformat": 4,
 "nbformat_minor": 2
}
