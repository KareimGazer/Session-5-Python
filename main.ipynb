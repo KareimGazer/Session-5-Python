{
 "cells": [
  {
   "cell_type": "markdown",
   "metadata": {},
   "source": [
    "# Indexing, Slicing, and Concatenation\n",
    "\n",
    "## Variables\n",
    "\n",
    "- Variables are placeholders or containers that store data in memory.\n",
    "- They can be reassigned to different values during the execution of a program.\n",
    "\n",
    "## Literals\n",
    "\n",
    "- Literals are fixed values that are directly used in the code.\n",
    "- They represent specific values like numbers, strings, or Boolean values."
   ]
  },
  {
   "cell_type": "code",
   "execution_count": null,
   "metadata": {},
   "outputs": [],
   "source": [
    "x = 5  # Here, 'x' is a variable storing the integer value 5\n",
    "x = \"Hello\"  # Now, 'x' stores the string \"Hello\"\n",
    "\n",
    "num = 10  # Here, '10' is a numeric literal assigned to the variable 'num'\n",
    "message = 'Welcome'  # 'Welcome' is a string literal assigned to 'message'"
   ]
  },
  {
   "cell_type": "markdown",
   "metadata": {},
   "source": [
    "## Indexing\n",
    "\n",
    "- Indexing refers to accessing individual elements within an ordered collection like lists, tuples, or strings.\n",
    "- It is achieved by using square brackets [] along with the index position.\n",
    "- Indexing in Python starts from 0 for the first element.\n",
    "- Used to retrieve specific elements from sequences like lists, strings, or tuples.\n",
    "- Facilitates modifications or extraction of particular elements based on their position within the sequence."
   ]
  },
  {
   "cell_type": "code",
   "execution_count": 1,
   "metadata": {},
   "outputs": [
    {
     "name": "stdout",
     "output_type": "stream",
     "text": [
      "30\n"
     ]
    }
   ],
   "source": [
    "# Accessing the element at index 2 (which is 30)\n",
    "\n",
    "my_list = [10, 20, 30, 40, 50]\n",
    "print(my_list[2])"
   ]
  },
  {
   "cell_type": "markdown",
   "metadata": {},
   "source": [
    "## Slicing\n",
    "\n",
    "- Slicing refers to extracting a specific portion of a sequence by specifying a range using the colon `:` operator.\n",
    "- The syntax is `sequence[start:stop:step]`, where start is the starting index, stop is the ending index (exclusive), and step is the step size.\n"
   ]
  }
 ],
 "metadata": {
  "kernelspec": {
   "display_name": "Python 3",
   "language": "python",
   "name": "python3"
  },
  "language_info": {
   "codemirror_mode": {
    "name": "ipython",
    "version": 3
   },
   "file_extension": ".py",
   "mimetype": "text/x-python",
   "name": "python",
   "nbconvert_exporter": "python",
   "pygments_lexer": "ipython3",
   "version": "3.13.0"
  }
 },
 "nbformat": 4,
 "nbformat_minor": 2
}
